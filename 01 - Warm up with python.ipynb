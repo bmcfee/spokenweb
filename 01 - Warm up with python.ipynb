{
 "cells": [
  {
   "cell_type": "markdown",
   "metadata": {},
   "source": [
    "# Warm up\n",
    "\n",
    "This notebook will give you a brief introduction to working with audio in python.\n",
    "\n",
    "By the end of the notebook, you'll have loaded audio, played it back in the browser, computed its frequency content, mapped its loudness to decibels, and generated several visualizations.\n",
    "\n",
    "\n",
    "# Setup\n",
    "\n",
    "The very first thing we'll need to do is import our libraries.\n",
    "\n",
    "This is done in python by using the `import` command.  By convention, some libraries (particularly those with long names) are often renamed on import to make it easier to type.  This is done by using the `as` command, as seen below."
   ]
  },
  {
   "cell_type": "code",
   "execution_count": null,
   "metadata": {},
   "outputs": [],
   "source": [
    "# First: numpy, the core numeric building blocks\n",
    "# By convention, numpy is usually renamed to `np`\n",
    "import numpy as np"
   ]
  },
  {
   "cell_type": "code",
   "execution_count": null,
   "metadata": {},
   "outputs": [],
   "source": [
    "# Next: librosa, and its display module.\n",
    "# These need to be imported independently\n",
    "import librosa\n",
    "import librosa.display"
   ]
  },
  {
   "cell_type": "code",
   "execution_count": null,
   "metadata": {},
   "outputs": [],
   "source": [
    "# Next, matplotlib.  By convention, we rename this to `plt`\n",
    "import matplotlib.pyplot as plt\n",
    "\n",
    "# To tell jupyter that plots should be rendered in the browser (and not saved to files),\n",
    "# we need this \"magic\" command:\n",
    "%matplotlib inline"
   ]
  },
  {
   "cell_type": "code",
   "execution_count": null,
   "metadata": {},
   "outputs": [],
   "source": [
    "# Finally, if we want to play back audio, we need the Audio module from IPython\n",
    "from IPython.display import Audio"
   ]
  },
  {
   "cell_type": "markdown",
   "metadata": {},
   "source": [
    "---\n",
    "# Loading data\n",
    "\n",
    "Now that we have all of our packages in place, we can load some data.\n",
    "\n",
    "`librosa` does this by using `librosa.load`.  It supports most commonly used audio formats.\n",
    "\n",
    "Note: if you ever want to learn how something works in Jupyter, you can use the `?` operator.  Type the command you're interested in to a blank cell, followed by `?` (with no space) and hit `Shift+Enter`.\n",
    "\n",
    "For example, executing the code below will bring up the documentation for `librosa.load`:"
   ]
  },
  {
   "cell_type": "code",
   "execution_count": null,
   "metadata": {},
   "outputs": [],
   "source": [
    "librosa.load?"
   ]
  },
  {
   "cell_type": "code",
   "execution_count": null,
   "metadata": {},
   "outputs": [],
   "source": [
    "# We can actually load some data by specifying a path to a file.\n",
    "# The result of `load` will be the audio data and its sampling rate.\n",
    "# Note that librosa will by default convert everything to 22KHz mono.\n",
    "\n",
    "y, sr = librosa.load('sir_duke_fast.wav')"
   ]
  },
  {
   "cell_type": "code",
   "execution_count": null,
   "metadata": {},
   "outputs": [],
   "source": [
    "# To test that this worked, we can play it back as follows:\n",
    "Audio(data=y, rate=sr)"
   ]
  },
  {
   "cell_type": "markdown",
   "metadata": {},
   "source": [
    "# Transformation and visualization\n",
    "\n",
    "Before going further, let's visualize the audio we just loaded as a wave over time.\n",
    "\n",
    "This introduces the `librosa.display` module, which contains everything pertaining to visualization."
   ]
  },
  {
   "cell_type": "code",
   "execution_count": null,
   "metadata": {},
   "outputs": [],
   "source": [
    "librosa.display.waveplot(y=y, sr=sr)\n",
    "\n",
    "# To zoom in on a small region of time, uncomment the following line\n",
    "#plt.xlim([3, 5])"
   ]
  },
  {
   "cell_type": "code",
   "execution_count": null,
   "metadata": {},
   "outputs": [],
   "source": [
    "# Now, let's compute a spectrogram of the audio.  This is done by the `stft` function\n",
    "\n",
    "D = librosa.stft(y)"
   ]
  },
  {
   "cell_type": "code",
   "execution_count": null,
   "metadata": {},
   "outputs": [],
   "source": [
    "# What does this return?  Let's take a look!\n",
    "D"
   ]
  },
  {
   "cell_type": "code",
   "execution_count": null,
   "metadata": {},
   "outputs": [],
   "source": [
    "# These numbers are complex!\n",
    "# This is because STFT computes both magnitude and phase for each frequency at each time step.\n",
    "# If we don't care about phase, we can focus on magnitude by taking the absolute value\n",
    "\n",
    "S = np.abs(D)"
   ]
  },
  {
   "cell_type": "code",
   "execution_count": null,
   "metadata": {},
   "outputs": [],
   "source": [
    "# Now, we can plot the spectrum.\n",
    "# For context, we can put time marks on the horizontal axis\n",
    "librosa.display.specshow(S, x_axis='time')"
   ]
  },
  {
   "cell_type": "markdown",
   "metadata": {},
   "source": [
    "# What?  That doesn't look like much...\n",
    "\n",
    "Indeed!  This is because magnitudes measure loudness on a *linear* scale, but humans perceive loudness *logarithmically*.  This is where decibels (dB) come in!\n",
    "\n",
    "You can convert to a decibel scale as follows:"
   ]
  },
  {
   "cell_type": "code",
   "execution_count": null,
   "metadata": {},
   "outputs": [],
   "source": [
    "S_dB = librosa.amplitude_to_db(S)"
   ]
  },
  {
   "cell_type": "code",
   "execution_count": null,
   "metadata": {},
   "outputs": [],
   "source": [
    "# Let's try plotting again!\n",
    "librosa.display.specshow(S_dB, x_axis='time')"
   ]
  },
  {
   "cell_type": "markdown",
   "metadata": {},
   "source": [
    "### Much more information there!  But what does it mean?\n",
    "\n",
    "In the first plot, the colormaps went from dark to light because the data was all non-negative.\n",
    "\n",
    "In the second plot, the data are both positive (louder, red) and negative (quieter, blue) with respect to an arbitrary reference point.\n",
    "\n",
    "We can use a better reference point by comparing to the loudest (maximum) part of the recording:"
   ]
  },
  {
   "cell_type": "code",
   "execution_count": null,
   "metadata": {},
   "outputs": [],
   "source": [
    "S_dB = librosa.amplitude_to_db(S, ref=np.max)"
   ]
  },
  {
   "cell_type": "code",
   "execution_count": null,
   "metadata": {},
   "outputs": [],
   "source": [
    "# Let's try plotting again!\n",
    "librosa.display.specshow(S_dB, x_axis='time')"
   ]
  },
  {
   "cell_type": "markdown",
   "metadata": {},
   "source": [
    "### Better, but I still don't know what this means!\n",
    "\n",
    "Ok, let's put some more decoration on the plot.\n",
    "\n",
    "We can add a colorbar to explain what the colors mean"
   ]
  },
  {
   "cell_type": "code",
   "execution_count": null,
   "metadata": {},
   "outputs": [],
   "source": [
    "librosa.display.specshow(S_dB, x_axis='time')\n",
    "plt.colorbar()"
   ]
  },
  {
   "cell_type": "code",
   "execution_count": null,
   "metadata": {},
   "outputs": [],
   "source": [
    "# And tick marks on the vertical axis to show what the frequencies are\n",
    "# We use 'linear' to indicate that the frequencies are spaced linearly (evenly)\n",
    "# between 0 and sr/2\n",
    "librosa.display.specshow(S_dB, x_axis='time', y_axis='linear')\n",
    "plt.colorbar()"
   ]
  },
  {
   "cell_type": "markdown",
   "metadata": {},
   "source": [
    "# Wrapping up the warm up\n",
    "\n",
    "We've just done the following:\n",
    "\n",
    "1. Loaded an audio file\n",
    "2. Played it back in the browser\n",
    "3. Created a plot of its waveform\n",
    "4. Computed its frequency content using a short-time Fourier transform\n",
    "5. Visualized its frequency content by a spectrogram display\n",
    "\n",
    "# What would you like to do next?"
   ]
  }
 ],
 "metadata": {
  "kernelspec": {
   "display_name": "Python 3",
   "language": "python",
   "name": "python3"
  },
  "language_info": {
   "codemirror_mode": {
    "name": "ipython",
    "version": 3
   },
   "file_extension": ".py",
   "mimetype": "text/x-python",
   "name": "python",
   "nbconvert_exporter": "python",
   "pygments_lexer": "ipython3",
   "version": "3.5.2"
  }
 },
 "nbformat": 4,
 "nbformat_minor": 2
}
