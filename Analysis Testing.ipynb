{
 "cells": [
  {
   "cell_type": "code",
   "execution_count": null,
   "metadata": {},
   "outputs": [],
   "source": [
    "import numpy as np\n",
    "import librosa as lr\n",
    "from librosa import feature, display\n",
    "import matplotlib.pyplot as plt\n",
    "import os\n",
    "from IPython.display import Audio"
   ]
  },
  {
   "cell_type": "code",
   "execution_count": null,
   "metadata": {},
   "outputs": [],
   "source": [
    "silence_dir = './silence_examples/'\n",
    "silence_audio = []\n",
    "for i in range(10):\n",
    "    path = silence_dir + str(i) + '.wav'\n",
    "    audio_tmp, sr = lr.core.load(path)\n",
    "    silence_audio.append(audio_tmp)\n"
   ]
  },
  {
   "cell_type": "code",
   "execution_count": null,
   "metadata": {},
   "outputs": [],
   "source": [
    "Audio(data = silence_audio[6], rate = sr)"
   ]
  },
  {
   "cell_type": "code",
   "execution_count": null,
   "metadata": {},
   "outputs": [],
   "source": [
    "frame = 2048\n",
    "hop = 512\n",
    "audio = silence_audio[6]\n",
    "\n",
    "plt.figure(figsize=(15,10))\n",
    "plt.subplot(4,1,1)\n",
    "S = lr.feature.melspectrogram(y = audio, sr = sr, n_fft = frame, hop_length = hop)\n",
    "log_S = lr.power_to_db(S, ref=np.max)\n",
    "melspec = lr.display.specshow(log_S, y_axis='mel', fmax=8000, x_axis='time', sr=sr, hop_length = hop)\n",
    "\n",
    "\n",
    "plt.subplot(4,1,2)\n",
    "spc = lr.feature.spectral_centroid(y = audio, sr=sr, n_fft = frame, hop_length = hop)[0]\n",
    "t = np.arange(len(spc)) * (hop/sr)\n",
    "plt.title('Spectral Centroid (log)')\n",
    "plt.plot(t, np.log(spc))\n",
    "\n",
    "plt.subplot(4,1,3)\n",
    "spf = lr.onset.onset_strength(y = audio, sr=sr, n_fft = frame, hop_length = hop)\n",
    "t = np.arange(len(spf)) * (hop/sr)\n",
    "plt.title('RMS Spectral Flux (log-offset)')\n",
    "plt.plot(t, np.log(1+np.sqrt(np.power(spf,2))), 'r-')\n",
    "\n",
    "plt.subplot(4,1,4)\n",
    "rms = lr.feature.rmse(S=S, frame_length=frame, hop_length=hop)[0]\n",
    "t = np.arange(len(rms)) * (hop/sr)\n",
    "plt.title('RMSE')\n",
    "plt.plot(t, (rms))\n",
    "plt.show()"
   ]
  },
  {
   "cell_type": "code",
   "execution_count": null,
   "metadata": {},
   "outputs": [],
   "source": [
    "det_dir = './detection_examples/'\n",
    "det_audio = []\n",
    "for i in range(10):\n",
    "    path = det_dir + \"voice_detection_\" + str(i) + '.wav'\n",
    "    audio_tmp, sr = lr.core.load(path)\n",
    "    det_audio.append(audio_tmp)"
   ]
  },
  {
   "cell_type": "code",
   "execution_count": null,
   "metadata": {},
   "outputs": [],
   "source": [
    "frame = 2048\n",
    "hop = 512\n",
    "audio = det_audio[5]\n",
    "\n",
    "S = lr.feature.melspectrogram(y = audio, sr = sr, n_fft = frame, hop_length = hop)\n",
    "log_S = lr.power_to_db(S, ref=np.max)\n",
    "\n",
    "pcen_S = lr.pcen(S)\n",
    "\n",
    "plt.figure(figsize = (12,10))\n",
    "plt.subplot(2,1,1)\n",
    "lr.display.specshow(log_S, x_axis='time', y_axis='mel')\n",
    "plt.title('log amplitude (dB)')\n",
    "plt.subplot(2,1,2)\n",
    "lr.display.specshow(pcen_S, x_axis='time', y_axis='mel')\n",
    "plt.title('Per-channel energy normalization')\n",
    "plt.tight_layout()\n",
    "\n",
    "plt.show()"
   ]
  },
  {
   "cell_type": "code",
   "execution_count": null,
   "metadata": {},
   "outputs": [],
   "source": [
    "plt.figure(figsize=(15,10))\n",
    "plt.subplot(4,1,1)\n",
    "lr.display.specshow(pcen_S, x_axis='time', y_axis='mel')\n",
    "plt.title('Per-channel energy normalization')\n",
    "\n",
    "\n",
    "plt.subplot(4,1,2)\n",
    "spc = lr.feature.spectral_centroid(S=pcen_S, sr=sr, n_fft = frame, hop_length = hop)[0]\n",
    "t = np.arange(len(spc)) * (hop/sr)\n",
    "plt.title('Spectral Centroid (log)')\n",
    "plt.plot(t, np.log(spc))\n",
    "\n",
    "plt.subplot(4,1,3)\n",
    "spf = lr.onset.onset_strength(S=pcen_S, sr=sr, n_fft = frame, hop_length = hop)\n",
    "t = np.arange(len(spf)) * (hop/sr)\n",
    "plt.title('RMS Spectral Flux (log-offset)')\n",
    "plt.plot(t, np.log(1+np.sqrt(np.power(spf,2))), 'r-')\n",
    "\n",
    "plt.subplot(4,1,4)\n",
    "rms = lr.feature.rmse(S=pcen_S, frame_length=frame, hop_length=hop)[0]\n",
    "t = np.arange(len(rms)) * (hop/sr)\n",
    "plt.title('RMSE')\n",
    "plt.plot(t, (rms))\n",
    "plt.show()"
   ]
  },
  {
   "cell_type": "code",
   "execution_count": null,
   "metadata": {},
   "outputs": [],
   "source": [
    "Audio(data = det_audio[5], rate = sr)"
   ]
  }
 ],
 "metadata": {
  "kernelspec": {
   "display_name": "Python 3",
   "language": "python",
   "name": "python3"
  },
  "language_info": {
   "codemirror_mode": {
    "name": "ipython",
    "version": 3
   },
   "file_extension": ".py",
   "mimetype": "text/x-python",
   "name": "python",
   "nbconvert_exporter": "python",
   "pygments_lexer": "ipython3",
   "version": "3.6.7"
  }
 },
 "nbformat": 4,
 "nbformat_minor": 2
}
