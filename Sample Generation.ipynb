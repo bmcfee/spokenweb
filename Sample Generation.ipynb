{
 "cells": [
  {
   "cell_type": "code",
   "execution_count": 4,
   "metadata": {},
   "outputs": [],
   "source": [
    "import numpy as np\n",
    "import librosa as lr\n",
    "import scaper\n",
    "import soundfile as sf\n",
    "import os\n",
    "import pandas as pd\n",
    "import random\n",
    "from numpy.random import normal\n",
    "from IPython.display import Audio"
   ]
  },
  {
   "cell_type": "code",
   "execution_count": 5,
   "metadata": {},
   "outputs": [
    {
     "ename": "FileNotFoundError",
     "evalue": "[Errno 2] No such file or directory: '/scratch/ci411/spokenweb/ICSI Meetings/Signals/'",
     "output_type": "error",
     "traceback": [
      "\u001b[0;31m\u001b[0m",
      "\u001b[0;31mFileNotFoundError\u001b[0mTraceback (most recent call last)",
      "\u001b[0;32m<ipython-input-5-ccc4dc893713>\u001b[0m in \u001b[0;36m<module>\u001b[0;34m\u001b[0m\n\u001b[1;32m      4\u001b[0m \u001b[0;34m\u001b[0m\u001b[0m\n\u001b[1;32m      5\u001b[0m \u001b[0misci\u001b[0m \u001b[0;34m=\u001b[0m \u001b[0mmain_dir\u001b[0m \u001b[0;34m+\u001b[0m \u001b[0;34m\"ICSI Meetings/Signals/\"\u001b[0m\u001b[0;34m\u001b[0m\u001b[0;34m\u001b[0m\u001b[0m\n\u001b[0;32m----> 6\u001b[0;31m \u001b[0misci_files\u001b[0m \u001b[0;34m=\u001b[0m \u001b[0;34m[\u001b[0m\u001b[0misci\u001b[0m\u001b[0;34m+\u001b[0m\u001b[0mfile\u001b[0m\u001b[0;34m+\u001b[0m\u001b[0;34m'/'\u001b[0m\u001b[0;34m+\u001b[0m\u001b[0mfile\u001b[0m\u001b[0;34m+\u001b[0m\u001b[0;34m'.interaction.wav'\u001b[0m \u001b[0;32mfor\u001b[0m \u001b[0mfile\u001b[0m \u001b[0;32min\u001b[0m \u001b[0mos\u001b[0m\u001b[0;34m.\u001b[0m\u001b[0mlistdir\u001b[0m\u001b[0;34m(\u001b[0m\u001b[0misci\u001b[0m\u001b[0;34m)\u001b[0m\u001b[0;34m]\u001b[0m\u001b[0;34m\u001b[0m\u001b[0;34m\u001b[0m\u001b[0m\n\u001b[0m\u001b[1;32m      7\u001b[0m \u001b[0;34m\u001b[0m\u001b[0m\n\u001b[1;32m      8\u001b[0m \u001b[0murbansed\u001b[0m \u001b[0;34m=\u001b[0m \u001b[0mmain_dir\u001b[0m \u001b[0;34m+\u001b[0m \u001b[0;34m\"URBAN-SED_v2.0.0/audio/test/\"\u001b[0m\u001b[0;34m\u001b[0m\u001b[0;34m\u001b[0m\u001b[0m\n",
      "\u001b[0;31mFileNotFoundError\u001b[0m: [Errno 2] No such file or directory: '/scratch/ci411/spokenweb/ICSI Meetings/Signals/'"
     ]
    }
   ],
   "source": [
    "#file navigations\n",
    "\n",
    "main_dir = \"/scratch/ci411/spokenweb/\"\n",
    "\n",
    "isci = main_dir + \"ICSI Meetings/Signals/\"\n",
    "isci_files = [isci+file+'/'+file+'.interaction.wav' for file in os.listdir(isci)]\n",
    "\n",
    "urbansed = main_dir + \"URBAN-SED_v2.0.0/audio/test/\"\n",
    "urbansed_files = []\n",
    "for file in os.listdir(urbansed):\n",
    "    if file[0]!='.':\n",
    "        urbansed_files.append(urbansed + file)\n",
    "        \n",
    "scaper_files = main_dir + 'scaper_files/'\n",
    "\n",
    "commonvoice = main_dir + 'commonvoice/clips/'\n",
    "commonvoice_list = os.listdir(commonvoice)\n",
    "commonvoice_files = []\n",
    "i=0\n",
    "while len(commonvoice_files)<100:\n",
    "    file = commonvoice_list[i]\n",
    "    i+=1\n",
    "    audio, sr = lr.load(commonvoice + file)\n",
    "    commonvoice_files.append(commonvoice+file)\n"
   ]
  },
  {
   "cell_type": "code",
   "execution_count": null,
   "metadata": {},
   "outputs": [],
   "source": [
    "#import into pandas dataframe\n",
    "train_cv = pd.read_csv(main_dir + 'commonvoice/train.tsv', sep='\\t')\n",
    "print(train_cv.columns)"
   ]
  },
  {
   "cell_type": "code",
   "execution_count": null,
   "metadata": {},
   "outputs": [],
   "source": [
    "#sort data by clients with at least 3 entries, take 10 clients and 3 entries\n",
    "client_groups = train_cv.groupby(['client_id']).groups\n",
    "client_ids = []\n",
    "client_files = []\n",
    "for client in client_groups.keys():\n",
    "    indexes = client_groups[client]\n",
    "    if len(indexes)<3:\n",
    "        continue\n",
    "    client_ids.append(client)\n",
    "    client_files.append(indexes[:3])\n",
    "    if len(client_files) == 10:\n",
    "        break"
   ]
  },
  {
   "cell_type": "code",
   "execution_count": null,
   "metadata": {},
   "outputs": [],
   "source": [
    "#prototype generating audio\n",
    "ci = 1\n",
    "output = np.array([])\n",
    "for i in range(3):\n",
    "    index = client_files[ci][i]\n",
    "    loc = commonvoice + train_cv.loc[index].path+'.mp3'\n",
    "    audio, sr = lr.core.load(loc)\n",
    "    output = np.concatenate((output, audio))\n",
    "    space = np.zeros(int(sr*random.random()*3))\n",
    "    output = np.concatenate((output, space))\n",
    "noise_scale = 1e-3 #maximum reasonable noise is ~2e-1,lower bound at 1e-3#\n",
    "noise_width = noise_scale * (max(output) - min(output))/2\n",
    "noise = normal(scale = noise_width, size = len(output)) #white noise\n",
    "noisy_output = noise + output\n",
    "noisy_output = lr.util.normalize(noisy_output, axis=0)"
   ]
  },
  {
   "cell_type": "code",
   "execution_count": null,
   "metadata": {},
   "outputs": [],
   "source": [
    "#function for generating data from indexes in the dataframe\n",
    "\n",
    "def generate_audio(indexes, space_max = 5, noise_scale = 1e-3):\n",
    "    output = np.array([])\n",
    "    for index in indexes:\n",
    "        path = commonvoice + train_cv.loc[index].path+'.mp3'\n",
    "        audio, sr = lr.core.load(path)\n",
    "        output = np.concatenate((output, audio))\n",
    "        space = np.zeros(int(sr*random.random()*space_max-1)+1)\n",
    "        output = np.concatenate((output, space))\n",
    "    noise_width = noise_scale * (max(output) - min(output))/2\n",
    "    noise = np.cumsum(normal(scale = noise_width, size = len(output))) #brown noise\n",
    "    noisy_output = noise + output\n",
    "    noisy_output = lr.util.normalize(noisy_output, axis=0)\n",
    "    return noisy_output, sr"
   ]
  },
  {
   "cell_type": "code",
   "execution_count": null,
   "metadata": {},
   "outputs": [],
   "source": [
    "#test audio building function\n",
    "output, sr = generate_audio(client_files[1], noise_scale = 1e-2)\n",
    "Audio(data = output, rate = sr)"
   ]
  },
  {
   "cell_type": "code",
   "execution_count": null,
   "metadata": {},
   "outputs": [],
   "source": [
    "#building 10 samples from previousy defined clients with increasing noise levels\n",
    "audio_array = []\n",
    "sr_array = []\n",
    "noise_range = np.logspace(-3,-1,len(client_files))\n",
    "for i, files in enumerate(client_files):\n",
    "    audio, sr = generate_audio(files, noise_scale = noise_range[i])\n",
    "    audio_array.append(audio)\n",
    "    sr_array.append(sr)"
   ]
  },
  {
   "cell_type": "code",
   "execution_count": null,
   "metadata": {},
   "outputs": [],
   "source": [
    "#testing results\n",
    "i = 9\n",
    "Audio(data = audio_array[i], rate = sr_array[i])"
   ]
  },
  {
   "cell_type": "code",
   "execution_count": null,
   "metadata": {},
   "outputs": [],
   "source": [
    "#saving results to file\n",
    "silence_dir = '/home/ci411/SpokenWeb/silence_examples/'\n",
    "for i in range(len(audio_array)):\n",
    "    path = silence_dir + str(i) + '.wav'\n",
    "    #lr.output.write_wav(path, audio_array[i], sr_array[i])"
   ]
  },
  {
   "cell_type": "code",
   "execution_count": null,
   "metadata": {},
   "outputs": [],
   "source": [
    "soundscape_duration = 10.0\n",
    "foreground_folder = scaper_files + \"foreground/\"\n",
    "background_folder = scaper_files + \"background/\"\n",
    "sc = scaper.Scaper(soundscape_duration, foreground_folder, background_folder)\n",
    "sc.ref_db = -20\n",
    "\n",
    "sc.add_background(label=('choose', []),\n",
    "                  source_time=('uniform', 0,60),\n",
    "                  source_file = ('choose', []))\n",
    "\n",
    "sc.add_event(label=('const', 'commonvoice_wav'),\n",
    "             source_file=('choose', []),\n",
    "             source_time=('const', 0),\n",
    "             event_time=('uniform', 0, 10),\n",
    "             event_duration=('const', 10),\n",
    "             snr=('const', 10),\n",
    "             pitch_shift=('const', 1),\n",
    "             time_stretch=('const', 1))"
   ]
  },
  {
   "cell_type": "code",
   "execution_count": null,
   "metadata": {},
   "outputs": [],
   "source": [
    "det_dir = '/home/ci411/SpokenWeb/detection_examples/'\n",
    "test_loc = det_dir + 'test.wav'\n",
    "test_jams = det_dir + 'test.jams'\n",
    "sc.generate(test_loc, test_jams)"
   ]
  },
  {
   "cell_type": "code",
   "execution_count": null,
   "metadata": {},
   "outputs": [],
   "source": [
    "Audio(filename='/home/ci411/SpokenWeb/detection_examples/test.wav')"
   ]
  },
  {
   "cell_type": "code",
   "execution_count": null,
   "metadata": {},
   "outputs": [],
   "source": [
    "det_dir = '/home/ci411/SpokenWeb/detection_examples/'\n",
    "\n",
    "snr_range = np.linspace(-15,10,10)[::-1]\n",
    "\n",
    "for i, snr in enumerate(snr_range):\n",
    "    sc = scaper.Scaper(soundscape_duration, foreground_folder, background_folder)\n",
    "    sc.ref_db = -20\n",
    "\n",
    "    sc.add_background(label=('choose', []),\n",
    "                      source_time=('uniform', 0,60),\n",
    "                      source_file = ('choose', []))\n",
    "\n",
    "    sc.add_event(label=('const', 'commonvoice_wav'),\n",
    "                 source_file=('choose', []),\n",
    "                 source_time=('const', 0),\n",
    "                 event_time=('uniform', 0, 10),\n",
    "                 event_duration=('const', 10),\n",
    "                 snr=('const', snr),\n",
    "                 pitch_shift=('const', 1),\n",
    "                 time_stretch=('const', 1))\n",
    "\n",
    "    fname = \"voice_detection_{}\".format(i) \n",
    "    file_loc = det_dir + fname + '.wav'\n",
    "    jams_loc = det_dir + fname + '.jams'\n",
    "    sc.generate(file_loc, jams_loc)"
   ]
  }
 ],
 "metadata": {
  "kernelspec": {
   "display_name": "Python 3",
   "language": "python",
   "name": "python3"
  },
  "language_info": {
   "codemirror_mode": {
    "name": "ipython",
    "version": 3
   },
   "file_extension": ".py",
   "mimetype": "text/x-python",
   "name": "python",
   "nbconvert_exporter": "python",
   "pygments_lexer": "ipython3",
   "version": "3.6.7"
  }
 },
 "nbformat": 4,
 "nbformat_minor": 2
}
