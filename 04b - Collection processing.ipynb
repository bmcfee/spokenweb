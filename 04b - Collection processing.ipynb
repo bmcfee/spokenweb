{
 "cells": [
  {
   "cell_type": "markdown",
   "metadata": {},
   "source": [
    "# Processing long files with streams\n",
    "\n",
    "This notebook analyzes a collection of long recordings for quality-related audio features. The features that it computes are basically the same as those in the previous notebook (04 - Measuring Audio Quality), but the features are summarized by their statistics.\n",
    "\n",
    "The dataset that we analyze here consists of many long recordings (about 1 hour each), so loading an entire recording into memory and doing feature extraction would take more memory than we typically have on a laptop.  Instead, librosa allows us to work in *blocks* of audio at a time using the `librosa.stream()` function.  We compute the spectral roll-off and contrast features for each block, and then summarize all of the block-wise features to get a description of the entire recording. *Please note that the audio files we are using here are not available as part of this notebook.*\n",
    "\n",
    "It saves the results in a CSV file / pandas data frame that can be loaded back later for analysis.  This CSV file will power the visualization code used in the next notebook.\n",
    "\n",
    "**Features**:\n",
    "    - rolloff, 95% roll, and [5, 25, 50, 75, 95] percentiles over time\n",
    "    - spectral contrast: averaged across 5 octave bands starting at 80Hz.  percentile aggregates over time"
   ]
  },
  {
   "cell_type": "code",
   "execution_count": null,
   "metadata": {},
   "outputs": [],
   "source": [
    "import librosa\n",
    "import numpy as np\n",
    "import pandas as pd\n",
    "import os"
   ]
  },
  {
   "cell_type": "code",
   "execution_count": null,
   "metadata": {},
   "outputs": [],
   "source": [
    "def analyze_file(filename):\n",
    "    \n",
    "    # We need to know the sampling rate of the file in advance when streaming\n",
    "    \n",
    "    sr = librosa.get_samplerate(filename)\n",
    "    \n",
    "    # These are our analysis parameters, rescaled to match the sampling rate of the file in question\n",
    "    frame_length = (2048 * sr) // 22050\n",
    "    hop_length = (512 * sr) // 22050\n",
    "    \n",
    "    # Set up the stream for the file.  We'll look at blocks of 2048 frames at a time\n",
    "    stream = librosa.stream(filename, 2048, frame_length, hop_length)\n",
    "    \n",
    "    # These lists will contain our extracted features\n",
    "    rolloff = []\n",
    "    contrasts = []\n",
    "    \n",
    "    # y here is one block's worth of audio, rather than the entire signal\n",
    "    for y in stream:\n",
    "        # Our analysis uses uncentered frames when streaming.  This avoids introducing artifacts at the block boundaries.\n",
    "        S = np.abs(librosa.stft(y, n_fft=frame_length, hop_length=hop_length, center=False))\n",
    "        \n",
    "        # Compute the roll-off and append it to the `rolloff` list.  Same for contrast\n",
    "        rolloff.extend(librosa.feature.spectral_rolloff(S=S, sr=sr, roll_percent=0.95)[0])\n",
    "        contrasts.append(librosa.feature.spectral_contrast(S=S, sr=sr, fmin=80, n_bands=5)[1:])\n",
    "    \n",
    "    # Tidy up after ourselves: the stream is finished\n",
    "    stream.close()\n",
    "    \n",
    "    # Now compute the statistics of the features, and put them in a pandas dataframe\n",
    "    contrasts = np.concatenate(contrasts, axis=1)\n",
    "    mean_contrast = np.mean(contrasts, axis=0)\n",
    "    \n",
    "    data = dict(filename=os.path.basename(filename))\n",
    "    quantiles = [5, 25, 50, 75, 95]\n",
    "    R = np.percentile(rolloff, quantiles)\n",
    "    C = np.percentile(mean_contrast, quantiles)\n",
    "    for i in range(len(quantiles)):\n",
    "        data['rolloff_{:02d}'.format(quantiles[i])] = R[i]\n",
    "        data['contrast_{:02d}'.format(quantiles[i])] = C[i]\n",
    "    \n",
    "    # Return the dataframe\n",
    "    return data"
   ]
  },
  {
   "cell_type": "code",
   "execution_count": null,
   "metadata": {},
   "outputs": [],
   "source": [
    "# Get all the files that have been ogg-encoded\n",
    "files = librosa.util.find_files('swdata/', ext='ogg')"
   ]
  },
  {
   "cell_type": "code",
   "execution_count": null,
   "metadata": {},
   "outputs": [],
   "source": [
    "len(files)"
   ]
  },
  {
   "cell_type": "code",
   "execution_count": null,
   "metadata": {},
   "outputs": [],
   "source": [
    "df = pd.DataFrame.from_records([analyze_file(_) for _ in files], index='filename')"
   ]
  },
  {
   "cell_type": "code",
   "execution_count": null,
   "metadata": {},
   "outputs": [],
   "source": [
    "df"
   ]
  },
  {
   "cell_type": "code",
   "execution_count": null,
   "metadata": {},
   "outputs": [],
   "source": [
    "df.to_csv('audio_quality.csv')"
   ]
  }
 ],
 "metadata": {
  "kernelspec": {
   "display_name": "Python 3",
   "language": "python",
   "name": "python3"
  },
  "language_info": {
   "codemirror_mode": {
    "name": "ipython",
    "version": 3
   },
   "file_extension": ".py",
   "mimetype": "text/x-python",
   "name": "python",
   "nbconvert_exporter": "python",
   "pygments_lexer": "ipython3",
   "version": "3.6.8"
  }
 },
 "nbformat": 4,
 "nbformat_minor": 4
}
