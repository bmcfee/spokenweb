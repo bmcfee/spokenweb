{
 "cells": [
  {
   "cell_type": "markdown",
   "metadata": {},
   "source": [
    "# Processing long files with streams\n",
    "\n",
    "This notebook analyzes a collection of long recordings for quality-related audio features.  The features that it computes are basically the same as those in the previous notebook (04 - Measuring Audio Quality), but the features are summarized by their statistics.\n",
    "\n",
    "The dataset that we analyze here consists of many long recordings (about 1 hour each), so loading an entire recording into memory and doing feature extraction would take more memory than we typically have on a laptop.  Instead, librosa allows us to work in *blocks* of audio at a time using the `librosa.stream()` function.  We compute the spectral roll-off and contrast features for each block, and then summarize all of the block-wise features to get a description of the entire recording.\n",
    "\n",
    "It saves the results in a CSV file / pandas data frame that can be loaded back later for analysis.  This CSV file will power the visualization code used in the next notebook.\n",
    "\n",
    "**Features**:\n",
    "    - rolloff, 95% roll, and [5, 25, 50, 75, 95] percentiles over time\n",
    "    - spectral contrast: averaged across 5 octave bands starting at 80Hz.  percentile aggregates over time"
   ]
  },
  {
   "cell_type": "code",
   "execution_count": 1,
   "metadata": {},
   "outputs": [],
   "source": [
    "import librosa\n",
    "import tqdm\n",
    "import numpy as np\n",
    "import pandas as pd\n",
    "import os"
   ]
  },
  {
   "cell_type": "code",
   "execution_count": 33,
   "metadata": {},
   "outputs": [],
   "source": [
    "def analyze_file(filename):\n",
    "    \n",
    "    # We need to know the sampling rate of the file in advance when streaming\n",
    "    \n",
    "    sr = librosa.get_samplerate(filename)\n",
    "    \n",
    "    # These are our analysis parameters, rescaled to match the sampling rate of the file in question\n",
    "    frame_length = (2048 * sr) // 22050\n",
    "    hop_length = (512 * sr) // 22050\n",
    "    \n",
    "    # Set up the stream for the file.  We'll look at blocks of 2048 frames at a time\n",
    "    stream = librosa.stream(filename, 2048, frame_length, hop_length)\n",
    "    \n",
    "    # These lists will contain our extracted features\n",
    "    rolloff = []\n",
    "    contrasts = []\n",
    "    \n",
    "    # y here is one block's worth of audio, rather than the entire signal\n",
    "    for y in stream:\n",
    "        # Our analysis uses uncentered frames when streaming.  This avoids introducing artifacts at the block boundaries.\n",
    "        S = np.abs(librosa.stft(y, n_fft=frame_length, hop_length=hop_length, center=False))\n",
    "        \n",
    "        # Compute the roll-off and append it to the `rolloff` list.  Same for contrast\n",
    "        rolloff.extend(librosa.feature.spectral_rolloff(S=S, sr=sr, roll_percent=0.95)[0])\n",
    "        contrasts.append(librosa.feature.spectral_contrast(S=S, sr=sr, fmin=80, n_bands=5)[1:])\n",
    "    \n",
    "    # Tidy up after ourselves: the stream is finished\n",
    "    stream.close()\n",
    "    \n",
    "    # Now compute the statistics of the features, and put them in a pandas dataframe\n",
    "    contrasts = np.concatenate(contrasts, axis=1)\n",
    "    mean_contrast = np.mean(contrasts, axis=0)\n",
    "    \n",
    "    data = dict(filename=os.path.basename(filename))\n",
    "    quantiles = [5, 25, 50, 75, 95]\n",
    "    R = np.percentile(rolloff, quantiles)\n",
    "    C = np.percentile(mean_contrast, quantiles)\n",
    "    for i in range(len(quantiles)):\n",
    "        data['rolloff_{:02d}'.format(quantiles[i])] = R[i]\n",
    "        data['contrast_{:02d}'.format(quantiles[i])] = C[i]\n",
    "    \n",
    "    # Return the dataframe\n",
    "    return data"
   ]
  },
  {
   "cell_type": "code",
   "execution_count": 34,
   "metadata": {},
   "outputs": [],
   "source": [
    "# Get all the files that have been ogg-encoded\n",
    "files = librosa.util.find_files('swdata/', ext='ogg')"
   ]
  },
  {
   "cell_type": "code",
   "execution_count": 35,
   "metadata": {},
   "outputs": [
    {
     "data": {
      "text/plain": [
       "79"
      ]
     },
     "execution_count": 35,
     "metadata": {},
     "output_type": "execute_result"
    }
   ],
   "source": [
    "len(files)"
   ]
  },
  {
   "cell_type": "code",
   "execution_count": 36,
   "metadata": {},
   "outputs": [
    {
     "name": "stderr",
     "output_type": "stream",
     "text": [
      "\n",
      "  0%|          | 0/79 [00:00<?, ?it/s]\u001b[A\n",
      "  1%|▏         | 1/79 [01:21<1:45:57, 81.50s/it]\u001b[A\n",
      "  3%|▎         | 2/79 [06:24<3:09:54, 147.98s/it]\u001b[A\n",
      "  4%|▍         | 3/79 [06:54<2:22:28, 112.48s/it]\u001b[A\n",
      "  5%|▌         | 4/79 [12:06<3:35:33, 172.44s/it]\u001b[A\n",
      "  6%|▋         | 5/79 [17:18<4:24:26, 214.41s/it]\u001b[A\n",
      "  8%|▊         | 6/79 [21:24<4:32:20, 223.85s/it]\u001b[A\n",
      "  9%|▉         | 7/79 [23:14<3:47:25, 189.52s/it]\u001b[A\n",
      " 10%|█         | 8/79 [25:04<3:16:05, 165.72s/it]\u001b[A\n",
      " 11%|█▏        | 9/79 [28:49<3:34:14, 183.64s/it]\u001b[A\n",
      " 13%|█▎        | 10/79 [32:50<3:50:45, 200.65s/it]\u001b[A\n",
      " 14%|█▍        | 11/79 [34:32<3:13:59, 171.16s/it]\u001b[A\n",
      " 15%|█▌        | 12/79 [35:20<2:29:47, 134.15s/it]\u001b[A\n",
      " 16%|█▋        | 13/79 [38:12<2:40:13, 145.66s/it]\u001b[A\n",
      " 18%|█▊        | 14/79 [41:18<2:50:44, 157.61s/it]\u001b[A\n",
      " 19%|█▉        | 15/79 [44:09<2:52:35, 161.81s/it]\u001b[A\n",
      " 20%|██        | 16/79 [46:26<2:41:54, 154.20s/it]\u001b[A\n",
      " 22%|██▏       | 17/79 [49:20<2:45:31, 160.19s/it]\u001b[A\n",
      " 23%|██▎       | 18/79 [53:10<3:04:12, 181.18s/it]\u001b[A\n",
      " 24%|██▍       | 19/79 [57:27<3:23:45, 203.76s/it]\u001b[A\n",
      " 25%|██▌       | 20/79 [1:00:05<3:07:01, 190.20s/it]\u001b[A\n",
      " 27%|██▋       | 21/79 [1:02:25<2:49:18, 175.15s/it]\u001b[A\n",
      " 28%|██▊       | 22/79 [1:07:42<3:26:46, 217.66s/it]\u001b[A\n",
      " 29%|██▉       | 23/79 [1:12:46<3:47:18, 243.55s/it]\u001b[A\n",
      " 30%|███       | 24/79 [1:16:18<3:34:41, 234.21s/it]\u001b[A\n",
      " 32%|███▏      | 25/79 [1:19:23<3:17:17, 219.21s/it]\u001b[A\n",
      " 33%|███▎      | 26/79 [1:20:52<2:39:14, 180.27s/it]\u001b[A\n",
      " 34%|███▍      | 27/79 [1:22:23<2:13:02, 153.52s/it]\u001b[A\n",
      " 35%|███▌      | 28/79 [1:25:40<2:21:24, 166.36s/it]\u001b[A\n",
      " 37%|███▋      | 29/79 [1:26:52<1:55:08, 138.18s/it]\u001b[A\n",
      " 38%|███▊      | 30/79 [1:30:09<2:07:14, 155.80s/it]\u001b[A\n",
      " 39%|███▉      | 31/79 [1:32:56<2:07:26, 159.30s/it]\u001b[A\n",
      " 41%|████      | 32/79 [1:35:00<1:56:22, 148.57s/it]\u001b[A\n",
      " 42%|████▏     | 33/79 [1:35:34<1:27:34, 114.23s/it]\u001b[A\n",
      " 43%|████▎     | 34/79 [1:38:53<1:44:39, 139.55s/it]\u001b[A\n",
      " 44%|████▍     | 35/79 [1:40:42<1:35:38, 130.43s/it]\u001b[A\n",
      " 46%|████▌     | 36/79 [1:41:31<1:16:01, 106.08s/it]\u001b[A\n",
      " 47%|████▋     | 37/79 [1:46:40<1:56:56, 167.06s/it]\u001b[A\n",
      " 48%|████▊     | 38/79 [1:49:16<1:51:52, 163.72s/it]\u001b[A\n",
      " 49%|████▉     | 39/79 [1:51:27<1:42:35, 153.89s/it]\u001b[A\n",
      " 51%|█████     | 40/79 [1:54:28<1:45:12, 161.86s/it]\u001b[A\n",
      " 52%|█████▏    | 41/79 [1:59:01<2:03:46, 195.43s/it]\u001b[A\n",
      " 53%|█████▎    | 42/79 [2:00:01<1:35:26, 154.76s/it]\u001b[A\n",
      " 54%|█████▍    | 43/79 [2:02:44<1:34:16, 157.12s/it]\u001b[A\n",
      " 56%|█████▌    | 44/79 [2:03:18<1:10:06, 120.19s/it]\u001b[A\n",
      " 57%|█████▋    | 45/79 [2:05:58<1:14:50, 132.08s/it]\u001b[A\n",
      " 58%|█████▊    | 46/79 [2:09:03<1:21:27, 148.11s/it]\u001b[A\n",
      " 59%|█████▉    | 47/79 [2:10:34<1:09:45, 130.79s/it]\u001b[A\n",
      " 61%|██████    | 48/79 [2:13:01<1:10:04, 135.62s/it]\u001b[A\n",
      " 62%|██████▏   | 49/79 [2:18:12<1:34:12, 188.41s/it]\u001b[A\n",
      " 63%|██████▎   | 50/79 [2:20:34<1:24:18, 174.42s/it]\u001b[A\n",
      " 65%|██████▍   | 51/79 [2:23:03<1:17:54, 166.93s/it]\u001b[A\n",
      " 66%|██████▌   | 52/79 [2:25:25<1:11:40, 159.27s/it]\u001b[A\n",
      " 67%|██████▋   | 53/79 [2:26:20<55:29, 128.07s/it]  \u001b[A\n",
      " 68%|██████▊   | 54/79 [2:27:46<48:07, 115.51s/it]\u001b[A\n",
      " 70%|██████▉   | 55/79 [2:29:25<44:08, 110.35s/it]\u001b[A\n",
      " 71%|███████   | 56/79 [2:31:51<46:23, 121.03s/it]\u001b[A\n",
      " 72%|███████▏  | 57/79 [2:36:38<1:02:41, 170.97s/it]\u001b[A\n",
      " 73%|███████▎  | 58/79 [2:39:14<58:15, 166.43s/it]  \u001b[A\n",
      " 75%|███████▍  | 59/79 [2:42:45<59:56, 179.81s/it]\u001b[A\n",
      " 76%|███████▌  | 60/79 [2:44:42<51:00, 161.06s/it]\u001b[A\n",
      " 77%|███████▋  | 61/79 [2:50:25<1:04:42, 215.70s/it]\u001b[A\n",
      " 78%|███████▊  | 62/79 [2:53:14<57:05, 201.50s/it]  \u001b[A\n",
      " 80%|███████▉  | 63/79 [2:58:16<1:01:46, 231.63s/it]\u001b[A\n",
      " 81%|████████  | 64/79 [3:03:17<1:03:08, 252.57s/it]\u001b[A\n",
      " 82%|████████▏ | 65/79 [3:08:19<1:02:21, 267.28s/it]\u001b[A\n",
      " 84%|████████▎ | 66/79 [3:11:00<51:00, 235.40s/it]  \u001b[A\n",
      " 85%|████████▍ | 67/79 [3:13:06<40:31, 202.66s/it]\u001b[A\n",
      " 86%|████████▌ | 68/79 [3:16:57<38:42, 211.14s/it]\u001b[A\n",
      " 87%|████████▋ | 69/79 [3:18:57<30:37, 183.72s/it]\u001b[A\n",
      " 89%|████████▊ | 70/79 [3:22:20<28:27, 189.69s/it]\u001b[A\n",
      " 90%|████████▉ | 71/79 [3:25:50<26:04, 195.62s/it]\u001b[A\n",
      " 91%|█████████ | 72/79 [3:28:11<20:54, 179.27s/it]\u001b[A\n",
      " 92%|█████████▏| 73/79 [3:31:37<18:43, 187.23s/it]\u001b[A\n",
      " 94%|█████████▎| 74/79 [3:34:16<14:54, 178.89s/it]\u001b[A\n",
      " 95%|█████████▍| 75/79 [3:38:51<13:50, 207.65s/it]\u001b[A\n",
      " 96%|█████████▌| 76/79 [3:41:15<09:25, 188.51s/it]\u001b[A\n",
      " 97%|█████████▋| 77/79 [3:43:36<05:48, 174.31s/it]\u001b[A\n",
      " 99%|█████████▊| 78/79 [3:48:29<03:29, 209.84s/it]\u001b[A\n",
      "100%|██████████| 79/79 [3:52:09<00:00, 213.11s/it]\u001b[A"
     ]
    }
   ],
   "source": [
    "df = pd.DataFrame.from_records([analyze_file(_) for _ in tqdm.tqdm(files)], index='filename')"
   ]
  },
  {
   "cell_type": "code",
   "execution_count": 37,
   "metadata": {},
   "outputs": [],
   "source": [
    "df.to_csv('audio_quality.csv')"
   ]
  }
 ],
 "metadata": {
  "kernelspec": {
   "display_name": "Python 3.6",
   "language": "python",
   "name": "py36"
  },
  "language_info": {
   "codemirror_mode": {
    "name": "ipython",
    "version": 3
   },
   "file_extension": ".py",
   "mimetype": "text/x-python",
   "name": "python",
   "nbconvert_exporter": "python",
   "pygments_lexer": "ipython3",
   "version": "3.6.8"
  }
 },
 "nbformat": 4,
 "nbformat_minor": 2
}
