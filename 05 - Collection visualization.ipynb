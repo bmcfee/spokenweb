{
 "cells": [
  {
   "cell_type": "markdown",
   "metadata": {},
   "source": [
    "This notebook uses the code from the \"04 - Measuring audio quality\" noteboook to analyze 80 files from the [Sir George Williams Poetry Series SpokenWeb](https://montreal.spokenweb.ca/sgw-poetry-readings/) collection. Manual alignment of the files helped make the referenced metadata csv.\n",
    "\n",
    "https://gist.github.com/3aef1f2c68ea06296e61bc0bc0ffe037\n",
    "\n",
    "If you hover over the points in the visualization, it shows the author and some additional data; clicking on it takes you to the spokenweb page for the recording. The SpokenWeb pages do list a \"quality\" attribute (populated manually) that seems to correlate quite well with the audio analysis used in these notebooks.  (Opper is a great example.)  The result is that automating some tedious annotator tasks can be accomplished.\n",
    "\n",
    "[Note: Getting the notebook to run is a little tricky, mainly because altair has some quirky dependency interactions with different environments.]\n"
   ]
  },
  {
   "cell_type": "code",
   "execution_count": null,
   "metadata": {},
   "outputs": [],
   "source": [
    "import pandas as pd  # needed to parse analysis data\n",
    "import altair as alt  # needed for visualization\n",
    "import os  # needed for audio path manipulation\n",
    "import urllib"
   ]
  },
  {
   "cell_type": "code",
   "execution_count": null,
   "metadata": {},
   "outputs": [],
   "source": [
    "data = pd.read_csv('quality_examples/audio_quality.csv', index_col=0)\n",
    "metadata = pd.read_csv('spokenweb metadata.csv')[['author', 'date', 'url', 'year', 'filename']]"
   ]
  },
  {
   "cell_type": "code",
   "execution_count": null,
   "metadata": {},
   "outputs": [],
   "source": [
    "data = data.merge(metadata, on='filename')"
   ]
  },
  {
   "cell_type": "code",
   "execution_count": null,
   "metadata": {},
   "outputs": [],
   "source": [
    "alt.renderers.enable('notebook')\n",
    "chart = alt.Chart(data).mark_point(size=100).encode(\n",
    "    alt.X('contrast_50:Q',\n",
    "        scale=alt.Scale(zero=False, domain=(22, 30)),\n",
    "        axis=alt.Axis(title='Median contrast (dB)')\n",
    "    ),\n",
    "    alt.Y('rolloff_75:Q',\n",
    "        scale=alt.Scale(zero=False, domain=(3000, 16000)),\n",
    "        axis=alt.Axis(title='Roll-off (Hz)')\n",
    "    ),\n",
    "    tooltip=['author', 'date', 'contrast_25', 'contrast_50', 'contrast_75'],\n",
    "    href='url',\n",
    "    color=alt.Color('year:O', scale=alt.Scale(scheme='plasma'))\n",
    ").configure_axis(gridDash=(2, 4))\n",
    "\n",
    "chart"
   ]
  },
  {
   "cell_type": "code",
   "execution_count": null,
   "metadata": {},
   "outputs": [],
   "source": []
  }
 ],
 "metadata": {
  "kernelspec": {
   "display_name": "Python 3",
   "language": "python",
   "name": "python3"
  },
  "language_info": {
   "codemirror_mode": {
    "name": "ipython",
    "version": 3
   },
   "file_extension": ".py",
   "mimetype": "text/x-python",
   "name": "python",
   "nbconvert_exporter": "python",
   "pygments_lexer": "ipython3",
   "version": "3.6.7"
  }
 },
 "nbformat": 4,
 "nbformat_minor": 4
}
