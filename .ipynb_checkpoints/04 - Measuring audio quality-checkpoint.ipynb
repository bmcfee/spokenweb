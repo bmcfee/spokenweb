{
 "cells": [
  {
   "cell_type": "markdown",
   "metadata": {},
   "source": [
    "# Measuring audio quality\n",
    "\n",
    "This notebook provides some simple computational methods to roughly estimate the quality or intelligibility of an audio recording.\n",
    "Perceptual quality is a difficult concept to pin down precisely, but we'll be using two methods to estimate different aspects of audio\n",
    "that influence quality: *spectral roll-off* and *spectral contrast*.\n",
    "\n",
    "## Preliminaries: spectrograms\n",
    "\n",
    "We begin by assuming that an audio signal `y` has already been transformed into a magnitude spectrogram `S`, so that the matrix entry `S[f, t]` measures the amount of energy at frequency index `f` and time index `t`.  Each column `S[:, t]` (also known as a *frame*) corresponds to the discrete Fourier transform magnitudes of a short excerpt centered around time index `t`.  Both of the methods we'll use below work independently on each frame, and the results can be aggregated to summarize the entire clip.\n",
    "\n",
    "## Spectral roll-off\n",
    "\n",
    "The **spectral roll-off** is defined as the frequency `f` at which some given percentage of the total energy is contained at frequencies `f' <= f`.  Higher roll-off values correspond to higher frequency content, which may sound *crisper* or *brighter*, while lower roll-off values mean there is little or no content at high frequencies, leading to a muffled sound.  Typical percentage values for roll-off are 85% or 95%.\n",
    "\n",
    "As a general rule, the *sampling rate* of the audio in question (typically 44100 Hz for CD-quality audio) dictates an upper bound on frequency content: there can never be energy for a frequency larger than half the sampling rate (e.g., 22050 Hz).  However, it is common for audio to be resampled or converted to different formats, so the true cut-off frequency might be much lower than half the sampling rate in general.  Spectral roll-off gives a robust way to measure this property independent of the file's sampling rate.\n",
    "\n",
    "## Spectral contrast\n",
    "\n",
    "Audio can also sound muffled if there is not a sufficient difference in *loudness* between the foreground (e.g., voice) and background (e.g., noise).  The **spectral contrast** feature tries to measure this in a way that is agnostic to the sources of sound.  It proceeds by first breaking the frequency range into octaves.  For each octave (say, 100 Hz to 200 Hz), the distribution of energies is measured, and the contrast is estimated by comparing the highest energy to the lowest energy observed within the octave (in decibels).  (More precisely, percentile estimates are used, but you may think of it as maximum and minimum to get the intuition.)\n",
    "\n",
    "Concretely, if you have a pure tone with no background noise, then it will have a high contrast.  If you have broad-band noise (e.g., wind or running water), then there will be little distinction between the highest and lowest energy values, and it will have low-contrast.\n",
    "\n",
    "As contrast is computed independently per-octave, it returns a list of measurements for each time index.  For our purposes, we will restrict attention to a set of octaves covering the typical range of human voice (about 85 Hz to 3000 Hz)."
   ]
  },
  {
   "cell_type": "code",
   "execution_count": null,
   "metadata": {},
   "outputs": [],
   "source": [
    "# This cell sets up our environment\n",
    "import numpy as np\n",
    "import librosa\n",
    "import librosa.display\n",
    "import matplotlib.pyplot as plt\n",
    "%matplotlib inline\n",
    "from IPython.display import Audio"
   ]
  },
  {
   "cell_type": "code",
   "execution_count": null,
   "metadata": {},
   "outputs": [],
   "source": [
    "# Let's load in a clean audio example\n",
    "y, sr = librosa.load('quality_examples/clean-speech.wav')\n",
    "#y, sr = librosa.load('quality_examples/noisy-speech.wav')"
   ]
  },
  {
   "cell_type": "code",
   "execution_count": null,
   "metadata": {},
   "outputs": [],
   "source": [
    "# We can listen to it in the notebook\n",
    "Audio(data=y, rate=sr)"
   ]
  },
  {
   "cell_type": "code",
   "execution_count": null,
   "metadata": {},
   "outputs": [],
   "source": [
    "# And compute its short-time Fourier transform (STFT) spectrogram\n",
    "# We use np.abs to take just the magnitude, and discard the phase information\n",
    "S = np.abs(librosa.stft(y))"
   ]
  },
  {
   "cell_type": "code",
   "execution_count": null,
   "metadata": {},
   "outputs": [],
   "source": [
    "# Let's visualize it with a logarithmic frequency axis\n",
    "plt.figure(figsize=(12, 4))\n",
    "# Setting rasterized=True makes plotting less accurate, but faster\n",
    "librosa.display.specshow(librosa.amplitude_to_db(S, ref=np.max), x_axis='time', y_axis='log', rasterized=True)\n",
    "plt.colorbar(format='%2g dB')"
   ]
  },
  {
   "cell_type": "code",
   "execution_count": null,
   "metadata": {},
   "outputs": [],
   "source": [
    "# Let's first compute the spectral roll-off at 85%\n",
    "\n",
    "rolloff = librosa.feature.spectral_rolloff(S=S, roll_percent=0.85)"
   ]
  },
  {
   "cell_type": "code",
   "execution_count": null,
   "metadata": {},
   "outputs": [],
   "source": [
    "# We can plot the roll-off over the spectrogram by copying the plot from above...\n",
    "\n",
    "plt.figure(figsize=(12, 4))\n",
    "# Setting rasterized=True makes plotting less accurate, but faster\n",
    "librosa.display.specshow(librosa.amplitude_to_db(S, ref=np.max), x_axis='time', y_axis='log', rasterized=True)\n",
    "plt.colorbar(format='%2g dB')\n",
    "\n",
    "# And drawing on top of it\n",
    "times = librosa.times_like(rolloff)\n",
    "plt.plot(times, rolloff[0], color='w', linewidth=3, alpha=0.75)"
   ]
  },
  {
   "cell_type": "markdown",
   "metadata": {},
   "source": [
    "## Spectral roll-off\n",
    "\n",
    "As you can see from the plot, the white line roughly traces out the upper limit of where energy appears in the spectrum at each time index.\n",
    "\n",
    "You have several options for aggregating this information across time, if you want a single number summarizing roll-off.\n",
    "Simple averaging may not be a good idea, as it will be influenced by regions of silence.\n",
    "For most applications, a percentile estimate is probably appropriate, eg, the 95th percentile across time.\n",
    "This will be robust to regions of silence, as well as sporadic clicks or pops that might occur as recording or encoding artifacts."
   ]
  },
  {
   "cell_type": "code",
   "execution_count": null,
   "metadata": {},
   "outputs": [],
   "source": [
    "total_rolloff = np.percentile(rolloff, 95)\n",
    "print('Total roll-off: {:.2f} Hz'.format(total_rolloff))"
   ]
  },
  {
   "cell_type": "markdown",
   "metadata": {},
   "source": [
    "### Exercise\n",
    "\n",
    "\n",
    "What happens if you change the roll-off to 95%?  Try it out!\n",
    "\n",
    "---"
   ]
  },
  {
   "cell_type": "code",
   "execution_count": null,
   "metadata": {},
   "outputs": [],
   "source": [
    "# Now let's move on to spectral contrast.\n",
    "# We'll use 5 octave bands starting at 80\n",
    "# The method will then add an extra band that covers everything below the first frequency\n",
    "#     0 --    80 (added automatically)\n",
    "#    80 --   160\n",
    "#   160 --   320\n",
    "#   320 --   640\n",
    "#   640 --  1280\n",
    "#  1280 --  2560\n",
    "\n",
    "contrast = librosa.feature.spectral_contrast(S=S, fmin=80, n_bands=5)"
   ]
  },
  {
   "cell_type": "code",
   "execution_count": null,
   "metadata": {},
   "outputs": [],
   "source": [
    "# We can plot it using specshow, but note that the vertical axis\n",
    "# is now octaves, not frequencies\n",
    "plt.figure(figsize=(12, 4))\n",
    "# Setting rasterized=True makes plotting less accurate, but faster\n",
    "librosa.display.specshow(contrast, x_axis='time', rasterized=True)\n",
    "plt.ylabel('Octave #')\n",
    "plt.title('Spectral contrast')\n",
    "plt.colorbar(format='%2g dB')"
   ]
  },
  {
   "cell_type": "code",
   "execution_count": null,
   "metadata": {},
   "outputs": [],
   "source": [
    "# The bottom band covers frequencies below the human voice range\n",
    "# We can do this by slicing the array to get rid of the first row\n",
    "contrast = contrast[1:, :]"
   ]
  },
  {
   "cell_type": "code",
   "execution_count": null,
   "metadata": {},
   "outputs": [],
   "source": [
    "# And plot it once more\n",
    "plt.figure(figsize=(12, 4))\n",
    "librosa.display.specshow(contrast, x_axis='time', rasterized=True)\n",
    "plt.ylabel('Octave #')\n",
    "plt.title('Spectral contrast')\n",
    "plt.colorbar(format='%2g dB')"
   ]
  },
  {
   "cell_type": "markdown",
   "metadata": {},
   "source": [
    "## Contrast\n",
    "\n",
    "From the contrast plot, we can see that contrast is low (darker color) at the bottom octave (where the noise is louder) and higher in the higher octaves (where noise tapers off).\n",
    "However, contrast is only really high when the speaker is active and there is a reliable foreground sound.\n",
    "This suggests that aggregation over time should be treated with care, just as before with roll-off.\n",
    "\n",
    "A quantile-based aggregation is reasonable here as well, depending on what proportion of time you expect there to be foreground activity in your recording.\n",
    "In this case, the speaker is active for about half the time, so a median would make sense.\n",
    "\n",
    "(Fancier schemes based on energy-weighted averages may also work, but take a bit more care to develop properly.)"
   ]
  },
  {
   "cell_type": "code",
   "execution_count": null,
   "metadata": {},
   "outputs": [],
   "source": [
    "# We'll use the 50th percentile (median) and aggregate over the time axis (1)\n",
    "# This will give a time-aggregated estimate for each of our five octave bands\n",
    "total_contrast = np.percentile(contrast, 50, axis=1)"
   ]
  },
  {
   "cell_type": "code",
   "execution_count": null,
   "metadata": {},
   "outputs": [],
   "source": [
    "print('Total contrast (dB): {}'.format(total_contrast))"
   ]
  },
  {
   "cell_type": "markdown",
   "metadata": {},
   "source": [
    "## Exercise\n",
    "\n",
    "Run through all of the above again, but now using `noisy-speech.wav`.  Note how the features change!"
   ]
  },
  {
   "cell_type": "markdown",
   "metadata": {},
   "source": [
    "# Wrapping up\n",
    "\n",
    "This notebook demonstrated how to work through a couple of spectral features to get a sense of audio quality.\n",
    "\n",
    "In the next step, we'll show how to visualize this data after running it over a collection of recordings!"
   ]
  }
 ],
 "metadata": {
  "kernelspec": {
   "display_name": "Python 3",
   "language": "python",
   "name": "python3"
  },
  "language_info": {
   "codemirror_mode": {
    "name": "ipython",
    "version": 3
   },
   "file_extension": ".py",
   "mimetype": "text/x-python",
   "name": "python",
   "nbconvert_exporter": "python",
   "pygments_lexer": "ipython3",
   "version": "3.6.7"
  }
 },
 "nbformat": 4,
 "nbformat_minor": 2
}
