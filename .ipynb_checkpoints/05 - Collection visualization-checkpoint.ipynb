{
 "cells": [
  {
   "cell_type": "code",
   "execution_count": 1,
   "metadata": {},
   "outputs": [
    {
     "ename": "SyntaxError",
     "evalue": "invalid syntax (<ipython-input-1-0f41b8a152f8>, line 4)",
     "output_type": "error",
     "traceback": [
      "\u001b[0;36m  File \u001b[0;32m\"<ipython-input-1-0f41b8a152f8>\"\u001b[0;36m, line \u001b[0;32m4\u001b[0m\n\u001b[0;31m    import urllibalt.renderers.enable('notebook')\u001b[0m\n\u001b[0m                                     ^\u001b[0m\n\u001b[0;31mSyntaxError\u001b[0m\u001b[0;31m:\u001b[0m invalid syntax\n"
     ]
    }
   ],
   "source": [
    "import pandas as pd  # needed to parse analysis data\n",
    "import altair as alt  # needed for visualization\n",
    "import os  # needed for audio path manipulation\n",
    "import urllibalt.renderers.enable('notebook')"
   ]
  },
  {
   "cell_type": "code",
   "execution_count": null,
   "metadata": {},
   "outputs": [],
   "source": [
    "data = pd.read_csv('quality_examples/audio_quality.csv', index_col=0)\n",
    "metadata = pd.read_csv('spokenweb metadata.csv')[['author', 'date', 'url', 'year', 'filename']]"
   ]
  },
  {
   "cell_type": "code",
   "execution_count": null,
   "metadata": {},
   "outputs": [],
   "source": [
    "data = data.merge(metadata, on='filename')"
   ]
  },
  {
   "cell_type": "code",
   "execution_count": null,
   "metadata": {},
   "outputs": [],
   "source": [
    "chart = alt.Chart(data).mark_point(size=100).encode(\n",
    "    alt.X('contrast_50:Q',\n",
    "        scale=alt.Scale(zero=False, domain=(22, 30)),\n",
    "        axis=alt.Axis(title='Median contrast (dB)')\n",
    "    ),\n",
    "    alt.Y('rolloff_75:Q',\n",
    "        scale=alt.Scale(zero=False, domain=(3000, 16000)),\n",
    "        axis=alt.Axis(title='Roll-off (Hz)')\n",
    "    ),\n",
    "    tooltip=['author', 'date', 'contrast_25', 'contrast_50', 'contrast_75'],\n",
    "    href='url',\n",
    "    color=alt.Color('year:O', scale=alt.Scale(scheme='plasma'))\n",
    ").configure_axis(gridDash=(2, 4))\n",
    "\n",
    "chart"
   ]
  }
 ],
 "metadata": {
  "kernelspec": {
   "display_name": "Python 3",
   "language": "python",
   "name": "python3"
  },
  "language_info": {
   "codemirror_mode": {
    "name": "ipython",
    "version": 3
   },
   "file_extension": ".py",
   "mimetype": "text/x-python",
   "name": "python",
   "nbconvert_exporter": "python",
   "pygments_lexer": "ipython3",
   "version": "3.6.7"
  }
 },
 "nbformat": 4,
 "nbformat_minor": 4
}
